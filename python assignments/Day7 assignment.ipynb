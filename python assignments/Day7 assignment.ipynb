{
 "cells": [
  {
   "cell_type": "markdown",
   "metadata": {},
   "source": [
    "port1={21:'FTP',22:\"SSH\",23:\"telnet\",80:'http'}\n",
    "\n",
    "# and make a new dictionary in which keys becomes values and values become \n",
    "\n",
    "# keys as shown port2={'FTP':21,'SSH':22,'telnet':23,'http':80}"
   ]
  },
  {
   "cell_type": "code",
   "execution_count": 2,
   "metadata": {},
   "outputs": [
    {
     "name": "stdout",
     "output_type": "stream",
     "text": [
      "{'FTP': 21, 'SSH': 22, 'telnet': 23, 'http': 80}\n"
     ]
    }
   ],
   "source": [
    "port1={21:'FTP',22:\"SSH\",23:\"telnet\",80:'http'};\n",
    "key=list(port1.keys())\n",
    "values=list(port1.values())\n",
    "port2=dict([(values[i],key[i]) for i in range(len(port1))])\n",
    "print(port2)"
   ]
  },
  {
   "cell_type": "markdown",
   "metadata": {},
   "source": [
    "# or using dict comprehensions"
   ]
  },
  {
   "cell_type": "code",
   "execution_count": 3,
   "metadata": {},
   "outputs": [
    {
     "name": "stdout",
     "output_type": "stream",
     "text": [
      "{'FTP': 21, 'SSH': 22, 'telnet': 23, 'http': 80}\n"
     ]
    }
   ],
   "source": [
    "port1={21:'FTP',22:\"SSH\",23:\"telnet\",80:'http'};\n",
    "keys=list(port1.keys())\n",
    "values=list(port1.values())\n",
    "port2={values[i]:keys[i] for i in range(len(port1))}\n",
    "print(port2)"
   ]
  },
  {
   "cell_type": "markdown",
   "metadata": {},
   "source": [
    "# Take a list of tuples as shown below:[(1,2),(3,4),(5,6),(4,5)]. Make a new list \n",
    "\n",
    "# which contains sum of numbers of tuples. eg for above [3,7,11,9]."
   ]
  },
  {
   "cell_type": "code",
   "execution_count": 6,
   "metadata": {},
   "outputs": [
    {
     "name": "stdout",
     "output_type": "stream",
     "text": [
      "[3, 7, 11, 9]\n"
     ]
    }
   ],
   "source": [
    "list_tuples=[(1,2),(3,4),(5,6),(4,5)]\n",
    "sum_list=[];\n",
    "for i in list_tuples:\n",
    "    sum1=0;\n",
    "    for j in range(len(i)):\n",
    "        sum1+=i[j];\n",
    "    sum_list.append(sum1)\n",
    "print(sum_list);"
   ]
  },
  {
   "cell_type": "markdown",
   "metadata": {},
   "source": [
    "# List contains tuples and lists. Make the elements of innerlist and tuples to outer list"
   ]
  },
  {
   "cell_type": "code",
   "execution_count": 4,
   "metadata": {},
   "outputs": [
    {
     "name": "stdout",
     "output_type": "stream",
     "text": [
      "[1, 2, 3, 1, 2, 'a', 'hit', 'less']\n"
     ]
    }
   ],
   "source": [
    "list1=[(1,2,3),[1,2],['a','hit','less']];\n",
    "final_list=[];\n",
    "for i in list1:\n",
    "    for j in range(len(i)):\n",
    "        k=i[j]\n",
    "        final_list.append(k)\n",
    "print(final_list)"
   ]
  },
  {
   "cell_type": "code",
   "execution_count": null,
   "metadata": {},
   "outputs": [],
   "source": []
  }
 ],
 "metadata": {
  "kernelspec": {
   "display_name": "Python 3",
   "language": "python",
   "name": "python3"
  },
  "language_info": {
   "codemirror_mode": {
    "name": "ipython",
    "version": 3
   },
   "file_extension": ".py",
   "mimetype": "text/x-python",
   "name": "python",
   "nbconvert_exporter": "python",
   "pygments_lexer": "ipython3",
   "version": "3.7.6"
  }
 },
 "nbformat": 4,
 "nbformat_minor": 4
}
