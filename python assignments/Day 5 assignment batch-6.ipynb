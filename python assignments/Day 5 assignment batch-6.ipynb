{
 "cells": [
  {
   "cell_type": "markdown",
   "metadata": {},
   "source": [
    "list1=[0,1,2,10,4,1,0,56,2,0,1,3,0,56,0,4]\n",
    "\n",
    "# sort by increasing order but all zeroes should be at right hand side."
   ]
  },
  {
   "cell_type": "code",
   "execution_count": 1,
   "metadata": {},
   "outputs": [
    {
     "name": "stdout",
     "output_type": "stream",
     "text": [
      "[1, 1, 1, 2, 2, 3, 4, 4, 10, 56, 56, 0, 0, 0, 0, 0]\n"
     ]
    }
   ],
   "source": [
    "unordered_list= [0,1,2,10,4,1,0,56,2,0,1,3,0,56,0,4];\n",
    "no_of_zeroes=unordered_list.count(0)\n",
    "for i in unordered_list:\n",
    "    if i==0:\n",
    "        unordered_list.remove(i);\n",
    "unordered_list.sort();\n",
    "for i in range(no_of_zeroes):\n",
    "    unordered_list.append(0);\n",
    "print(unordered_list);"
   ]
  },
  {
   "cell_type": "markdown",
   "metadata": {},
   "source": [
    "# or"
   ]
  },
  {
   "cell_type": "code",
   "execution_count": 2,
   "metadata": {},
   "outputs": [
    {
     "name": "stdout",
     "output_type": "stream",
     "text": [
      "[1, 1, 1, 2, 2, 3, 4, 4, 10, 56, 56, 0, 0, 0, 0, 0]\n"
     ]
    }
   ],
   "source": [
    "def fun1(value):\n",
    "    if (value!=0):\n",
    "        return value\n",
    "    else:\n",
    "        return 101;\n",
    "list1=[0,1,2,10,4,1,0,56,2,0,1,3,0,56,0,4];\n",
    "list1.sort(key=fun1);\n",
    "print(list1);"
   ]
  },
  {
   "cell_type": "markdown",
   "metadata": {},
   "source": [
    "list1=[10,20,40,60,70,80] sorted list\n",
    "list2=[5,15,25,35,45,60] sorted list\n",
    "\n",
    "# merge these 2 sorted lists to produce one sorted list,but use only loop either while or for only one time."
   ]
  },
  {
   "cell_type": "code",
   "execution_count": 9,
   "metadata": {},
   "outputs": [
    {
     "name": "stdout",
     "output_type": "stream",
     "text": [
      "5, 10, 15, 20, 25, 35, 40, 45, 60, 70, 80, "
     ]
    }
   ],
   "source": [
    "list1=[10,20,40,60,70,80];\n",
    "list2=[5,15,25,35,45];\n",
    "list1+=list2;\n",
    "for i in range(min(list1),max(list1)+1):\n",
    "    if i in list1:\n",
    "        print(i,end=\", \");"
   ]
  },
  {
   "cell_type": "code",
   "execution_count": null,
   "metadata": {},
   "outputs": [],
   "source": []
  }
 ],
 "metadata": {
  "kernelspec": {
   "display_name": "Python 3",
   "language": "python",
   "name": "python3"
  },
  "language_info": {
   "codemirror_mode": {
    "name": "ipython",
    "version": 3
   },
   "file_extension": ".py",
   "mimetype": "text/x-python",
   "name": "python",
   "nbconvert_exporter": "python",
   "pygments_lexer": "ipython3",
   "version": "3.7.6"
  }
 },
 "nbformat": 4,
 "nbformat_minor": 4
}
