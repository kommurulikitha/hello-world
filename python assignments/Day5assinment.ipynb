{
 "cells": [
  {
   "cell_type": "markdown",
   "metadata": {},
   "source": [
    "# [0,1,2,10,4,1,0,56,2,0,1,3,0,56,0,4]\n",
    "sort by increasing order but all zeroes should be at right hand side."
   ]
  },
  {
   "cell_type": "code",
   "execution_count": 3,
   "metadata": {},
   "outputs": [
    {
     "name": "stdout",
     "output_type": "stream",
     "text": [
      "[1, 1, 1, 2, 2, 3, 4, 4, 10, 56, 56, 0, 0, 0, 0, 0]\n"
     ]
    }
   ],
   "source": [
    "unordered_list= [0,1,2,10,4,1,0,56,2,0,1,3,0,56,0,4];\n",
    "no_of_zeroes=unordered_list.count(0)\n",
    "for i in unordered_list:\n",
    "    if i==0:\n",
    "        unordered_list.remove(i);\n",
    "unordered_list.sort();\n",
    "for i in range(no_of_zeroes):\n",
    "    unordered_list.append(0);\n",
    "print(unordered_list);"
   ]
  },
  {
   "cell_type": "markdown",
   "metadata": {},
   "source": [
    "# if you want to give your input list then"
   ]
  },
  {
   "cell_type": "code",
   "execution_count": 8,
   "metadata": {},
   "outputs": [
    {
     "name": "stdout",
     "output_type": "stream",
     "text": [
      "Enter the list size:7\n",
      "Enter your number3\n",
      "Enter your number0\n",
      "Enter your number5\n",
      "Enter your number0\n",
      "Enter your number5\n",
      "Enter your number4\n",
      "Enter your number0\n",
      "[3, 0, 5, 0, 5, 4, 0]\n",
      "[3, 4, 5, 5, 0, 0, 0]\n"
     ]
    }
   ],
   "source": [
    "unordered_list1=[];\n",
    "size=int(input(\"Enter the list size:\"));\n",
    "for i in range(size):\n",
    "    n=int(input(\"Enter your number\"));\n",
    "    unordered_list1.append(n);\n",
    "print(unordered_list1);\n",
    "no_of_zeroes1=unordered_list1.count(0)\n",
    "for i in unordered_list1:\n",
    "    if i==0:\n",
    "        unordered_list1.remove(i);\n",
    "unordered_list1.sort();\n",
    "for i in range(no_of_zeroes1):\n",
    "    unordered_list1.append(0);\n",
    "print(unordered_list1);"
   ]
  },
  {
   "cell_type": "markdown",
   "metadata": {},
   "source": [
    "# # list1=[10,20,40,60,70,80] sorted list\n",
    "\n",
    "# list2=[5,15,25,35,45,60] sorted list\n",
    "#merge these 2 sorted lists to produce one sorted list,but use only loop either while or for only one time."
   ]
  },
  {
   "cell_type": "code",
   "execution_count": 1,
   "metadata": {},
   "outputs": [
    {
     "name": "stdout",
     "output_type": "stream",
     "text": [
      "[5, 10, 15, 20, 25, 35, 40, 45, 60, 60, 70, 80]\n"
     ]
    }
   ],
   "source": [
    "list1=[10,20,40,60,70,80];\n",
    "list2=[5,15,25,35,45,60];\n",
    "list3=[];\n",
    "for i in list1:\n",
    "    list3.append(i);\n",
    "for i in list2:\n",
    "    list3.append(i);\n",
    "list3.sort()\n",
    "print(list3);"
   ]
  },
  {
   "cell_type": "code",
   "execution_count": null,
   "metadata": {},
   "outputs": [],
   "source": []
  }
 ],
 "metadata": {
  "kernelspec": {
   "display_name": "Python 3",
   "language": "python",
   "name": "python3"
  },
  "language_info": {
   "codemirror_mode": {
    "name": "ipython",
    "version": 3
   },
   "file_extension": ".py",
   "mimetype": "text/x-python",
   "name": "python",
   "nbconvert_exporter": "python",
   "pygments_lexer": "ipython3",
   "version": "3.7.6"
  }
 },
 "nbformat": 4,
 "nbformat_minor": 4
}
