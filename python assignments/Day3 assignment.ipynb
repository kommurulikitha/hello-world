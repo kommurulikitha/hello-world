{
 "cells": [
  {
   "cell_type": "markdown",
   "metadata": {},
   "source": [
    "# Sum of first n natural numbers using while loop\n",
    "\n",
    "#Question 1"
   ]
  },
  {
   "cell_type": "code",
   "execution_count": 2,
   "metadata": {},
   "outputs": [
    {
     "name": "stdout",
     "output_type": "stream",
     "text": [
      "Enter your number4\n",
      "The sum of first 4 numbers is 10\n"
     ]
    }
   ],
   "source": [
    "n=int(input(\"Enter your number\"));\n",
    "sum=0;\n",
    "i=0;\n",
    "while(i<=n):\n",
    "    sum+=i;\n",
    "    i+=1;\n",
    "print(\"The sum of first {} numbers is {}\".format(n,sum));"
   ]
  },
  {
   "cell_type": "markdown",
   "metadata": {},
   "source": [
    "# Another method for sum of n numbers using while loop\n",
    "\n",
    "#Question 1"
   ]
  },
  {
   "cell_type": "code",
   "execution_count": 4,
   "metadata": {},
   "outputs": [
    {
     "name": "stdout",
     "output_type": "stream",
     "text": [
      "Enter the no.of numbers you want to add5\n",
      "Enter your number2\n",
      "Enter your number3\n",
      "Enter your number6\n",
      "Enter your number4\n",
      "Enter your number8\n",
      "[2, 3, 6, 4, 8]\n",
      "\n",
      "The sum of 5 numbers is 23\n"
     ]
    }
   ],
   "source": [
    "n=int(input(\"Enter the no.of numbers you want to add\"));\n",
    "list=[];\n",
    "for i in range(n):\n",
    "    num=int(input(\"Enter your number\"));\n",
    "    list.append(num);\n",
    "print(list);\n",
    "sum=0;\n",
    "for i in list:\n",
    "    sum+=i;\n",
    "print(f\"\\nThe sum of {n} numbers is {sum}\");"
   ]
  },
  {
   "cell_type": "markdown",
   "metadata": {},
   "source": [
    "# Whether the number is prime or not\n",
    "#Question 2"
   ]
  },
  {
   "cell_type": "code",
   "execution_count": 3,
   "metadata": {},
   "outputs": [
    {
     "name": "stdout",
     "output_type": "stream",
     "text": [
      "Enter the number69\n",
      "The given number 69 is not a prime number\n"
     ]
    }
   ],
   "source": [
    "n=int(input(\"Enter the number\"));\n",
    "count=0;\n",
    "for i in range(2,n):\n",
    "    if (n%i==0):\n",
    "        count+=1;\n",
    "if (count==0):\n",
    "    print(\"The given number \"+ str(n) +\" is a prime number\");\n",
    "else:\n",
    "    print(\"The given number \"+ str(n) +\" is not a prime number\");"
   ]
  },
  {
   "cell_type": "code",
   "execution_count": null,
   "metadata": {},
   "outputs": [],
   "source": []
  }
 ],
 "metadata": {
  "kernelspec": {
   "display_name": "Python 3",
   "language": "python",
   "name": "python3"
  },
  "language_info": {
   "codemirror_mode": {
    "name": "ipython",
    "version": 3
   },
   "file_extension": ".py",
   "mimetype": "text/x-python",
   "name": "python",
   "nbconvert_exporter": "python",
   "pygments_lexer": "ipython3",
   "version": "3.7.6"
  }
 },
 "nbformat": 4,
 "nbformat_minor": 4
}
